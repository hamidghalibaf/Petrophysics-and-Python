{
  "nbformat": 4,
  "nbformat_minor": 0,
  "metadata": {
    "colab": {
      "provenance": [],
      "toc_visible": true,
      "authorship_tag": "ABX9TyP6QTfEXz7F9qxnUekg81Kt",
      "include_colab_link": true
    },
    "kernelspec": {
      "name": "python3",
      "display_name": "Python 3"
    },
    "language_info": {
      "name": "python"
    }
  },
  "cells": [
    {
      "cell_type": "markdown",
      "metadata": {
        "id": "view-in-github",
        "colab_type": "text"
      },
      "source": [
        "<a href=\"https://colab.research.google.com/github/hamidghalibaf/Petrophysics-and-Python/blob/master/path4.ipynb\" target=\"_parent\"><img src=\"https://colab.research.google.com/assets/colab-badge.svg\" alt=\"Open In Colab\"/></a>"
      ]
    },
    {
      "cell_type": "code",
      "source": [
        "from google.colab import drive\n",
        "drive.mount('/content/drive')"
      ],
      "metadata": {
        "colab": {
          "base_uri": "https://localhost:8080/"
        },
        "id": "lIW_rqB7kXH6",
        "outputId": "a2662eb3-5fa6-4dff-c42e-3045027b16da"
      },
      "execution_count": 8,
      "outputs": [
        {
          "output_type": "stream",
          "name": "stdout",
          "text": [
            "Drive already mounted at /content/drive; to attempt to forcibly remount, call drive.mount(\"/content/drive\", force_remount=True).\n"
          ]
        }
      ]
    },
    {
      "cell_type": "code",
      "source": [
        "import pandas as pd\n",
        "\n",
        "path=\"/content/drive/MyDrive/15_9-19.csv\"\n",
        "df=pd.read_csv(path)\n",
        "df.describe"
      ],
      "metadata": {
        "colab": {
          "base_uri": "https://localhost:8080/"
        },
        "id": "hW2l68HBmK2T",
        "outputId": "6a563973-1467-40ad-ebbe-78d3af2aa490"
      },
      "execution_count": 12,
      "outputs": [
        {
          "output_type": "execute_result",
          "data": {
            "text/plain": [
              "<bound method NDFrame.describe of             DEPTH         CALI         COAL           DT       DT_LOG  \\\n",
              "0     M            inches       unitless     us/ft        us/ft         \n",
              "1       3500.0183        9.315            0      76.7292      76.7292   \n",
              "2       3500.1707        9.324            0      77.2473      77.2473   \n",
              "3       3500.3231        9.338            0      77.8462      77.8462   \n",
              "4       3500.4755        9.329            0      78.3571      78.3571   \n",
              "...           ...          ...          ...          ...          ...   \n",
              "4097    4124.2487         -999         -999         -999         -999   \n",
              "4098    4124.4011         -999         -999         -999         -999   \n",
              "4099    4124.5535         -999         -999         -999         -999   \n",
              "4100    4124.7059         -999         -999         -999         -999   \n",
              "4101    4124.8583         -999         -999         -999         -999   \n",
              "\n",
              "              DTS      DTS_LOG           GR         NPHI         PHIE  \\\n",
              "0     us/ft        us/ft        API          v/v_decimal  v/v_decimal   \n",
              "1        157.1754     157.1754       36.621       0.1542       0.1122   \n",
              "2        158.9566     158.9566       36.374       0.1694       0.1074   \n",
              "3        159.7642     159.7642       30.748       0.1776       0.1082   \n",
              "4        158.7547     158.7547       29.795       0.1767       0.1254   \n",
              "...           ...          ...          ...          ...          ...   \n",
              "4097         -999         -999         -999         -999         -999   \n",
              "4098         -999         -999         -999         -999         -999   \n",
              "4099         -999         -999         -999         -999         -999   \n",
              "4100         -999         -999         -999         -999         -999   \n",
              "4101         -999         -999         -999         -999         -999   \n",
              "\n",
              "            PHIEC         PHIT        PHITC         RHOB     RHOB_LOG  \\\n",
              "0     v/v_decimal  v/v_decimal  v/v_decimal  g/cm3        g/cm3         \n",
              "1          0.1098       0.1209       0.1186       2.4602         2.46   \n",
              "2           0.106       0.1159       0.1146        2.468        2.468   \n",
              "3          0.1079       0.1127       0.1125        2.473        2.473   \n",
              "4          0.1226       0.1292       0.1264       2.4471        2.447   \n",
              "...           ...          ...          ...          ...          ...   \n",
              "4097         -999         -999         -999         -999         -999   \n",
              "4098         -999         -999         -999         -999         -999   \n",
              "4099         -999         -999         -999         -999         -999   \n",
              "4100         -999         -999         -999         -999         -999   \n",
              "4101         -999         -999         -999         -999         -999   \n",
              "\n",
              "               RT           RW         TEMP  \n",
              "0     ohm.m        ohm.m        degC         \n",
              "1           1.791       0.0211      94.5855  \n",
              "2           1.756       0.0211      94.5897  \n",
              "3            1.72       0.0211       94.594  \n",
              "4           1.696       0.0211      94.5982  \n",
              "...           ...          ...          ...  \n",
              "4097         -999         -999         -999  \n",
              "4098         -999         -999         -999  \n",
              "4099         -999         -999         -999  \n",
              "4100         -999         -999         -999  \n",
              "4101         -999         -999         -999  \n",
              "\n",
              "[4102 rows x 18 columns]>"
            ]
          },
          "metadata": {},
          "execution_count": 12
        }
      ]
    }
  ]
}